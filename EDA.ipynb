{
 "cells": [
  {
   "cell_type": "code",
   "execution_count": null,
   "metadata": {},
   "outputs": [],
   "source": [
    "import numpy as np\n",
    "import pandas as pd\n",
    "import seaborn as sns\n",
    "import matplotlib.pylab as plt\n",
    "import cartopy.crs as ccrs\n",
    "\n",
    "pd.set_option('display.max_columns', None)\n",
    "pd.set_option('display.expand_frame_repr', False)"
   ]
  },
  {
   "cell_type": "markdown",
   "metadata": {},
   "source": [
    "## Load the Data"
   ]
  },
  {
   "cell_type": "code",
   "execution_count": null,
   "metadata": {},
   "outputs": [],
   "source": [
    "dataset = pd.read_csv('Raw datasets/globalterrorismdb.csv', encoding='ISO-8859-1')"
   ]
  },
  {
   "cell_type": "markdown",
   "metadata": {},
   "source": [
    "## Preliminary Analysis\n",
    "Questions:\n",
    "1. What is the size of my dataset and what are the variable data types?\n",
    "2. What does my data look like?\n",
    "3. Are there any missing variables?"
   ]
  },
  {
   "cell_type": "code",
   "execution_count": null,
   "metadata": {},
   "outputs": [],
   "source": [
    "dataset.shape"
   ]
  },
  {
   "cell_type": "code",
   "execution_count": null,
   "metadata": {},
   "outputs": [],
   "source": [
    "dataset.head()"
   ]
  },
  {
   "cell_type": "code",
   "execution_count": null,
   "metadata": {},
   "outputs": [],
   "source": [
    "# Renaming the columns for readability\n",
    "dataset.rename(columns={'iyear':'Year', 'imonth':'Month', 'iday':'Day', 'country_txt':'Country', 'region_txt':'Region', 'attacktype1_txt':'Attack_type', 'targtype1_txt':'Target_type', 'target1':'Target', 'weaptype1_txt':'WeaponType', 'nkill':'Killed','nwound':'Wounded', 'gname':'Group'}, inplace=True)"
   ]
  },
  {
   "cell_type": "code",
   "execution_count": null,
   "metadata": {},
   "outputs": [],
   "source": [
    "# Columns too many; select desired columns and reorder them\n",
    "dataset['casualties'] = dataset['Killed']+dataset['Wounded']\n",
    "dataset = dataset[['Year', 'Month', 'Day', 'Country', 'Region', 'city', 'latitude', 'longitude', 'Attack_type', 'Target_type', 'Target', 'WeaponType', 'motive', 'casualties', 'property', 'Group', 'success', 'summary']]\n",
    "dataset.head()"
   ]
  },
  {
   "cell_type": "code",
   "execution_count": null,
   "metadata": {},
   "outputs": [],
   "source": [
    "dataset.dtypes"
   ]
  },
  {
   "cell_type": "markdown",
   "metadata": {},
   "source": [
    "### Missing values"
   ]
  },
  {
   "cell_type": "code",
   "execution_count": null,
   "metadata": {},
   "outputs": [],
   "source": [
    "dataset.isnull().sum()"
   ]
  },
  {
   "cell_type": "markdown",
   "metadata": {},
   "source": [
    "## General Insights"
   ]
  },
  {
   "cell_type": "code",
   "execution_count": null,
   "metadata": {},
   "outputs": [],
   "source": [
    "corr_matrix = dataset.corr()\n",
    "plt.figure(figsize=(10, 8))\n",
    "sns.heatmap(corr_matrix, cmap='coolwarm', annot=True)\n",
    "plt.title('Correlation Matrix')\n",
    "plt.show()"
   ]
  },
  {
   "cell_type": "code",
   "execution_count": null,
   "metadata": {},
   "outputs": [],
   "source": [
    "# Ignore corelation between wounded"
   ]
  },
  {
   "cell_type": "code",
   "execution_count": null,
   "metadata": {},
   "outputs": [],
   "source": [
    "plt.figure(figsize=(12, 6))\n",
    "sns.countplot(data=dataset, x='Year', palette='ch:.25')\n",
    "plt.xticks(rotation=90)\n",
    "plt.title('Number of Terrorist Attacks by Year')\n",
    "plt.xlabel('Year')\n",
    "plt.ylabel('Number of Attacks')\n",
    "plt.show()"
   ]
  },
  {
   "cell_type": "code",
   "execution_count": null,
   "metadata": {},
   "outputs": [],
   "source": [
    "plt.figure(figsize=(8, 8))\n",
    "attack_type_counts = dataset['Attack_type'].value_counts()\n",
    "colors = sns.color_palette(\"ch:.25_r\", n_colors=len(attack_type_counts))\n",
    "plt.pie(attack_type_counts, labels=attack_type_counts.index, autopct='%1.1f%%', startangle=140, colors=colors)\n",
    "plt.title('Distribution of Attack Types')\n",
    "plt.show()"
   ]
  },
  {
   "cell_type": "code",
   "execution_count": null,
   "metadata": {},
   "outputs": [],
   "source": [
    "plt.subplots(figsize=(15,6))\n",
    "sns.countplot(dataset['Target_type'],palette='ch:.25_r',order=dataset['Target_type'].value_counts().index)\n",
    "plt.xticks(rotation=90)\n",
    "plt.title('Attacks by Targets')\n",
    "plt.show()"
   ]
  },
  {
   "cell_type": "markdown",
   "metadata": {},
   "source": [
    "## Geographical Analysis"
   ]
  },
  {
   "cell_type": "code",
   "execution_count": null,
   "metadata": {},
   "outputs": [],
   "source": [
    "\n",
    "df = dataset.dropna(subset=['latitude', 'longitude'])\n",
    "projection = ccrs.PlateCarree()\n",
    "\n",
    "# scatter plot of attack locations\n",
    "plt.figure(figsize=(10, 6))\n",
    "ax = plt.axes(projection=projection)\n",
    "\n",
    "ax.scatter(df['longitude'], df['latitude'], s=5, color='red', transform=ccrs.PlateCarree())\n",
    "\n",
    "ax.coastlines()\n",
    "ax.add_feature(ccrs.cartopy.feature.BORDERS, linestyle=':')\n",
    "ax.add_feature(ccrs.cartopy.feature.LAND, edgecolor='black')\n",
    "ax.set_title('Terrorist Attack Locations')\n",
    "\n",
    "plt.show()"
   ]
  },
  {
   "cell_type": "code",
   "execution_count": null,
   "metadata": {},
   "outputs": [],
   "source": [
    "print('Country with Highest Terrorist Attacks:',dataset['Country'].value_counts().index[0])\n",
    "print('Region with Highest Terrorist Attacks:',dataset['Region'].value_counts().index[0])"
   ]
  },
  {
   "cell_type": "code",
   "execution_count": null,
   "metadata": {},
   "outputs": [],
   "source": [
    "coun_terror=dataset['Country'].value_counts()[:15].to_frame()\n",
    "coun_terror.columns=['Attacks']\n",
    "coun_kill=dataset.groupby('Country')['Killed'].sum().to_frame()\n",
    "coun_terror.merge(coun_kill,left_index=True,right_index=True,how='left').plot.bar(width=0.9)\n",
    "fig=plt.gcf()\n",
    "fig.set_size_inches(18,6)\n",
    "plt.show()"
   ]
  },
  {
   "cell_type": "code",
   "execution_count": null,
   "metadata": {},
   "outputs": [],
   "source": [
    "sns.barplot(dataset['Group'].value_counts()[1:15].values,dataset['Group'].value_counts()[1:15].index,palette=('ch:.25_r'))\n",
    "plt.xticks(rotation=90)\n",
    "fig=plt.gcf()\n",
    "fig.set_size_inches(10,8)\n",
    "plt.title('Terrorist Groups with Highest Terror Attacks')\n",
    "plt.show()"
   ]
  },
  {
   "cell_type": "markdown",
   "metadata": {},
   "source": [
    "## Terrorism in Kenya"
   ]
  },
  {
   "cell_type": "code",
   "execution_count": null,
   "metadata": {},
   "outputs": [],
   "source": [
    "terror_kenya=dataset[dataset['Country']=='Kenya']\n",
    "\n",
    "f,ax=plt.subplots(1,2,figsize=(25,12))\n",
    "ke_groups=terror_kenya['Group'].value_counts()[1:11].index\n",
    "ke_groups=terror_kenya[terror_kenya['Group'].isin(ke_groups)]\n",
    "sns.countplot(y='Group',data=ke_groups,ax=ax[0])\n",
    "ax[0].set_title('Top Terrorist Groups')\n",
    "sns.countplot(y='Attack_type',data=terror_kenya,ax=ax[1])\n",
    "ax[1].set_title('Common Attack Types')\n",
    "plt.subplots_adjust(hspace=0.3,wspace=0.6)\n",
    "ax[0].tick_params(labelsize=15)\n",
    "ax[1].tick_params(labelsize=15)\n",
    "plt.show()"
   ]
  }
 ],
 "metadata": {
  "kernelspec": {
   "display_name": "Python 3",
   "language": "python",
   "name": "python3"
  },
  "language_info": {
   "codemirror_mode": {
    "name": "ipython",
    "version": 3
   },
   "file_extension": ".py",
   "mimetype": "text/x-python",
   "name": "python",
   "nbconvert_exporter": "python",
   "pygments_lexer": "ipython3",
   "version": "3.9.13"
  },
  "orig_nbformat": 4
 },
 "nbformat": 4,
 "nbformat_minor": 2
}
