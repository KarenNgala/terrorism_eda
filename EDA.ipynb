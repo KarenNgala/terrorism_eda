{
 "cells": [
  {
   "cell_type": "code",
   "execution_count": null,
   "metadata": {},
   "outputs": [],
   "source": [
    "import pandas as pd\n",
    "import seaborn as sns\n",
    "import matplotlib.pylab as plt\n",
    "from scipy.stats import chi2_contingency\n",
    "\n",
    "pd.set_option('display.max_columns', None)\n",
    "pd.set_option('display.expand_frame_repr', False)"
   ]
  },
  {
   "cell_type": "markdown",
   "metadata": {},
   "source": [
    "## Load the Data"
   ]
  },
  {
   "cell_type": "code",
   "execution_count": null,
   "metadata": {},
   "outputs": [],
   "source": [
    "dataset = pd.read_csv('datasets/globalterrorismdb.csv', encoding='ISO-8859-1')"
   ]
  },
  {
   "cell_type": "markdown",
   "metadata": {},
   "source": [
    "## Preliminary Analysis\n",
    "Questions:\n",
    "1. What is the size of my dataset and what are the variable data types?\n",
    "2. What does my data look like?\n",
    "3. Are there any missing variables?"
   ]
  },
  {
   "cell_type": "code",
   "execution_count": null,
   "metadata": {},
   "outputs": [],
   "source": [
    "dataset.shape"
   ]
  },
  {
   "cell_type": "code",
   "execution_count": null,
   "metadata": {},
   "outputs": [],
   "source": [
    "dataset.head()"
   ]
  },
  {
   "cell_type": "code",
   "execution_count": null,
   "metadata": {},
   "outputs": [],
   "source": [
    "# Renaming the columns for readability\n",
    "dataset.rename(columns={'iyear':'Year', 'imonth':'Month', 'iday':'Day', 'country_txt':'Country', 'region_txt':'Region', 'attacktype1_txt':'Attack_type', 'targtype1_txt':'Target_type', 'target1':'Target', 'weaptype1_txt':'WeaponType', 'nkill':'Killed','nwound':'Wounded', 'gname':'Group'}, inplace=True)"
   ]
  },
  {
   "cell_type": "code",
   "execution_count": null,
   "metadata": {},
   "outputs": [],
   "source": [
    "# Columns too many; select desired columns and reorder them\n",
    "dataset['casualties'] = dataset['Killed']+dataset['Wounded']\n",
    "dataset = dataset[['Year', 'Month', 'Day', 'Country', 'Region', 'Attack_type', 'Target_type', 'WeaponType', 'motive', 'casualties', 'property', 'Group', 'success']]\n",
    "dataset.head()"
   ]
  },
  {
   "cell_type": "code",
   "execution_count": null,
   "metadata": {},
   "outputs": [],
   "source": [
    "dataset.dtypes"
   ]
  },
  {
   "cell_type": "markdown",
   "metadata": {},
   "source": [
    "### Missing values"
   ]
  },
  {
   "cell_type": "code",
   "execution_count": null,
   "metadata": {},
   "outputs": [],
   "source": [
    "dataset.isnull().sum()"
   ]
  },
  {
   "cell_type": "code",
   "execution_count": null,
   "metadata": {},
   "outputs": [],
   "source": [
    "# Handling missing values:\n",
    "\n",
    "\n",
    "# Drop motive column (too many missing values, subjective)\n",
    "dataset.drop('motive', axis=1, inplace=True)\n",
    "\n",
    "# Drop rows with missing values in the 'casualties' column\n",
    "dataset.dropna(subset=['casualties'], inplace=True)\n"
   ]
  },
  {
   "cell_type": "markdown",
   "metadata": {},
   "source": [
    "## General Insights"
   ]
  },
  {
   "cell_type": "markdown",
   "metadata": {},
   "source": [
    "Distribution of Attacks Over Time"
   ]
  },
  {
   "cell_type": "code",
   "execution_count": null,
   "metadata": {},
   "outputs": [],
   "source": [
    "plt.figure(figsize=(12, 6))\n",
    "sns.countplot(data=dataset, x='Year')\n",
    "plt.xticks(rotation=90)\n",
    "plt.title('Number of Terrorist Attacks by Year')\n",
    "plt.xlabel('Year')\n",
    "plt.ylabel('Number of Attacks')\n",
    "plt.show()"
   ]
  },
  {
   "cell_type": "markdown",
   "metadata": {},
   "source": [
    "Distribution of Casualties Over Time"
   ]
  },
  {
   "cell_type": "code",
   "execution_count": null,
   "metadata": {},
   "outputs": [],
   "source": [
    "casualties_by_year = dataset.groupby('Year')['casualties'].sum()\n",
    "\n",
    "plt.figure(figsize=(12, 6))\n",
    "casualties_by_year.plot()\n",
    "plt.xlabel('Year')\n",
    "plt.ylabel('Total Casualties')\n",
    "plt.title('Trend of Total Casualties Over the Years')\n",
    "plt.show()"
   ]
  },
  {
   "cell_type": "markdown",
   "metadata": {},
   "source": [
    "Distribution of Attack Types"
   ]
  },
  {
   "cell_type": "code",
   "execution_count": null,
   "metadata": {},
   "outputs": [],
   "source": [
    "plt.figure(figsize=(8, 8))\n",
    "attack_type_counts = dataset['Attack_type'].value_counts()\n",
    "plt.pie(attack_type_counts, labels=attack_type_counts.index, autopct='%1.1f%%', startangle=140)\n",
    "plt.title('Distribution of Attack Types')\n",
    "plt.show()"
   ]
  },
  {
   "cell_type": "markdown",
   "metadata": {},
   "source": [
    "Distribution of Target Types"
   ]
  },
  {
   "cell_type": "code",
   "execution_count": null,
   "metadata": {},
   "outputs": [],
   "source": [
    "plt.subplots(figsize=(15,6))\n",
    "sns.countplot(dataset['Target_type'], order=dataset['Target_type'].value_counts().index)\n",
    "plt.xticks(rotation=90)\n",
    "plt.title('Attacks by Targets')\n",
    "plt.show()"
   ]
  },
  {
   "cell_type": "markdown",
   "metadata": {},
   "source": [
    "Most Active Terrorist Groups"
   ]
  },
  {
   "cell_type": "code",
   "execution_count": null,
   "metadata": {},
   "outputs": [],
   "source": [
    "top_terrorist_groups = dataset['Group'].value_counts().drop('Unknown').head(10)\n",
    "plt.figure(figsize=(12, 6))\n",
    "top_terrorist_groups.plot(kind='bar')\n",
    "plt.xlabel('Terrorist Group')\n",
    "plt.ylabel('Number of Incidents')\n",
    "plt.title('Top 10 Most Active Terrorist Groups')\n",
    "plt.xticks(rotation=90)\n",
    "plt.show()"
   ]
  },
  {
   "cell_type": "markdown",
   "metadata": {},
   "source": [
    "## Geographical Analysis"
   ]
  },
  {
   "cell_type": "markdown",
   "metadata": {},
   "source": [
    "Geographical Distribution of Terrorist Incidents"
   ]
  },
  {
   "cell_type": "code",
   "execution_count": null,
   "metadata": {},
   "outputs": [],
   "source": [
    "plt.figure(figsize=(12, 6))\n",
    "sns.countplot(x='Country', data=dataset, order=dataset['Country'].value_counts().index[:10])\n",
    "plt.xlabel('Country')\n",
    "plt.ylabel('Number of Incidents')\n",
    "plt.title('Top 10 Countries with Most Terrorist Incidents')\n",
    "plt.xticks(rotation=90)\n",
    "plt.show()"
   ]
  },
  {
   "cell_type": "code",
   "execution_count": null,
   "metadata": {},
   "outputs": [],
   "source": [
    "print('Country with Highest Terrorist Attacks:',dataset['Country'].value_counts().index[0])\n",
    "print('Region with Highest Terrorist Attacks:',dataset['Region'].value_counts().index[0])"
   ]
  },
  {
   "cell_type": "markdown",
   "metadata": {},
   "source": [
    "# Correlation Heatmap"
   ]
  },
  {
   "cell_type": "code",
   "execution_count": null,
   "metadata": {},
   "outputs": [],
   "source": [
    "numeric_columns = dataset.select_dtypes(include='number')\n",
    "corr = numeric_columns.corr()\n",
    "\n",
    "plt.figure(figsize=(12, 8))\n",
    "sns.heatmap(corr, cmap='coolwarm', annot=True)\n",
    "plt.title('Correlation Heatmap')\n",
    "plt.show()"
   ]
  },
  {
   "cell_type": "markdown",
   "metadata": {},
   "source": [
    "# Hypothesis Test"
   ]
  },
  {
   "cell_type": "markdown",
   "metadata": {},
   "source": [
    "Significance test for the Hypothesis 3: The success rate of terrorist attacks is influenced by the type of attack"
   ]
  },
  {
   "cell_type": "code",
   "execution_count": null,
   "metadata": {},
   "outputs": [],
   "source": [
    "contingency_table = pd.crosstab(dataset['Attack_type'], dataset['success'])\n",
    "\n",
    "# Chi-Square test for independence\n",
    "chi2, p, dof, expected = chi2_contingency(contingency_table)\n",
    "\n",
    "# significance level\n",
    "alpha = 0.05\n",
    "\n",
    "\n",
    "if p < alpha:\n",
    "    result = \"The success rate of terrorist attacks is influenced by the type of attack (Reject Null Hypothesis).\"\n",
    "else:\n",
    "    result = \"There is no significant association between the success of attacks and the type of attack (Fail to Reject Null Hypothesis).\"\n",
    "\n",
    "print(f\"Chi-Square Statistic: {chi2}\")\n",
    "print(f\"P-value: {p}\")\n",
    "\n",
    "print(result)"
   ]
  }
 ],
 "metadata": {
  "kernelspec": {
   "display_name": "Python 3",
   "language": "python",
   "name": "python3"
  },
  "language_info": {
   "codemirror_mode": {
    "name": "ipython",
    "version": 3
   },
   "file_extension": ".py",
   "mimetype": "text/x-python",
   "name": "python",
   "nbconvert_exporter": "python",
   "pygments_lexer": "ipython3",
   "version": "3.11.6"
  },
  "orig_nbformat": 4
 },
 "nbformat": 4,
 "nbformat_minor": 2
}
